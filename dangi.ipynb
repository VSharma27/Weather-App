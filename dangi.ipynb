{
  "nbformat": 4,
  "nbformat_minor": 0,
  "metadata": {
    "colab": {
      "provenance": [],
      "collapsed_sections": [],
      "authorship_tag": "ABX9TyObCO3Q8qpOcPtULeuq1aQW",
      "include_colab_link": true
    },
    "kernelspec": {
      "name": "python3",
      "display_name": "Python 3"
    },
    "language_info": {
      "name": "python"
    }
  },
  "cells": [
    {
      "cell_type": "markdown",
      "metadata": {
        "id": "view-in-github",
        "colab_type": "text"
      },
      "source": [
        "<a href=\"https://colab.research.google.com/github/VSharma27/Weather-App/blob/main/dangi.ipynb\" target=\"_parent\"><img src=\"https://colab.research.google.com/assets/colab-badge.svg\" alt=\"Open In Colab\"/></a>"
      ]
    },
    {
      "cell_type": "code",
      "execution_count": 1,
      "metadata": {
        "id": "Wf3f6HP0s4f4"
      },
      "outputs": [],
      "source": [
        "import numpy as np\n",
        "\n",
        "demand = np.array([15,16,17,18,19])"
      ]
    },
    {
      "cell_type": "code",
      "source": [
        "probability = np.array([0.15,0.25,0.4,0.15,0.05])"
      ],
      "metadata": {
        "id": "zxJ_7Zk4tE9M"
      },
      "execution_count": 2,
      "outputs": []
    },
    {
      "cell_type": "code",
      "source": [
        "profit=20\n",
        "loss=80\n",
        "shortage_cost=40"
      ],
      "metadata": {
        "id": "z-0QCKHZtRrT"
      },
      "execution_count": 3,
      "outputs": []
    },
    {
      "cell_type": "code",
      "source": [
        "payoff = np.array([[0,0,0,0,0], [0,0,0,0,0], [0,0,0,0,0], [0,0,0,0,0], [0,0,0,0,0]])\n",
        "\n",
        "for i in range(0,5):\n",
        "  for j in range(0,5):\n",
        "    if(demand[j]==demand[i]):\n",
        "      #print(\"demand matched\")\n",
        "      payoff[i][j]=demand[i]*20\n",
        "      print(payoff[i][j])\n",
        "    elif(demand[j]<=demand[i]):\n",
        "      #print(\"demand LESS\")\n",
        "      payoff[i][j]=demand[j]*20-(demand[i]-demand[j])*80\n",
        "      print(payoff[i][j])\n",
        "    else:\n",
        "      #print(\"demand greater\")\n",
        "      payoff[i][j]=demand[i]*20-(demand[j]-demand[i])*40\n",
        "      print(payoff[i][j])\n",
        "\n",
        "\n",
        "      \n"
      ],
      "metadata": {
        "colab": {
          "base_uri": "https://localhost:8080/"
        },
        "id": "TBiWbR3st0yM",
        "outputId": "831d3a41-c830-4bf4-b016-7391089b3fb4"
      },
      "execution_count": 15,
      "outputs": [
        {
          "output_type": "stream",
          "name": "stdout",
          "text": [
            "300\n",
            "260\n",
            "220\n",
            "180\n",
            "140\n",
            "220\n",
            "320\n",
            "280\n",
            "240\n",
            "200\n",
            "140\n",
            "240\n",
            "340\n",
            "300\n",
            "260\n",
            "60\n",
            "160\n",
            "260\n",
            "360\n",
            "320\n",
            "-20\n",
            "80\n",
            "180\n",
            "280\n",
            "380\n"
          ]
        }
      ]
    },
    {
      "cell_type": "code",
      "source": [
        "for x in payoff:\n",
        "  print(x)"
      ],
      "metadata": {
        "colab": {
          "base_uri": "https://localhost:8080/"
        },
        "id": "wL0PHdEkybMJ",
        "outputId": "091bee9d-e25c-49f3-95f3-c3e6c5bef15e"
      },
      "execution_count": 16,
      "outputs": [
        {
          "output_type": "stream",
          "name": "stdout",
          "text": [
            "[300 260 220 180 140]\n",
            "[220 320 280 240 200]\n",
            "[140 240 340 300 260]\n",
            "[ 60 160 260 360 320]\n",
            "[-20  80 180 280 380]\n"
          ]
        }
      ]
    },
    {
      "cell_type": "code",
      "source": [
        "emv = np.array([0,0,0,0,0])\n",
        "\n",
        "for i in range(0,5):\n",
        "  for j in range(0,5):\n",
        "    emv[i]+=probability[j]*payoff[i][j]"
      ],
      "metadata": {
        "id": "XaUta-Z5ygbP"
      },
      "execution_count": 20,
      "outputs": []
    },
    {
      "cell_type": "code",
      "source": [
        "for x in emv:\n",
        "  print(x)"
      ],
      "metadata": {
        "colab": {
          "base_uri": "https://localhost:8080/"
        },
        "id": "JI0eiLErzv_X",
        "outputId": "fdd99876-bb94-40de-b030-fbea5991471a"
      },
      "execution_count": 21,
      "outputs": [
        {
          "output_type": "stream",
          "name": "stdout",
          "text": [
            "232\n",
            "271\n",
            "275\n",
            "223\n",
            "150\n"
          ]
        }
      ]
    },
    {
      "cell_type": "code",
      "source": [
        "max_emv=emv[0]\n",
        "for i in range(1,5):\n",
        "  if emv[i]>max_emv:\n",
        "    max_emv=emv[i]\n",
        "  \n",
        "print(max_emv)"
      ],
      "metadata": {
        "colab": {
          "base_uri": "https://localhost:8080/"
        },
        "id": "qKaw0C270p90",
        "outputId": "614bc7c2-6e9c-4043-870d-65ffd638e73c"
      },
      "execution_count": 31,
      "outputs": [
        {
          "output_type": "stream",
          "name": "stdout",
          "text": [
            "275\n"
          ]
        }
      ]
    },
    {
      "cell_type": "markdown",
      "source": [
        "#eppi"
      ],
      "metadata": {
        "id": "fQ6-zN9J1Ju4"
      }
    },
    {
      "cell_type": "code",
      "source": [
        "eppi =0\n",
        "\n",
        "for i in range(0,5):\n",
        "  max=float('-inf')\n",
        "  for j in range(0,5):\n",
        "    if payoff[j][i]> max:\n",
        "      max=payoff[j][i]\n",
        "    \n",
        "  eppi+=probability[i]*max\n",
        "\n",
        "\n",
        "print(eppi)"
      ],
      "metadata": {
        "colab": {
          "base_uri": "https://localhost:8080/"
        },
        "id": "Hk-IK64Z1DkP",
        "outputId": "e247005a-53a4-445e-eaed-6051465d52d0"
      },
      "execution_count": 32,
      "outputs": [
        {
          "output_type": "stream",
          "name": "stdout",
          "text": [
            "334.0\n"
          ]
        }
      ]
    },
    {
      "cell_type": "code",
      "source": [
        "evpi=eppi-max_emv\n",
        "print(max_emv)\n",
        "print(eppi)\n",
        "print(evpi)"
      ],
      "metadata": {
        "colab": {
          "base_uri": "https://localhost:8080/"
        },
        "id": "yJhOuTc_2Zxv",
        "outputId": "fc7817e7-e3ce-4607-bf22-0d2136c9b893"
      },
      "execution_count": 36,
      "outputs": [
        {
          "output_type": "stream",
          "name": "stdout",
          "text": [
            "275\n",
            "334.0\n",
            "59.0\n"
          ]
        }
      ]
    },
    {
      "cell_type": "code",
      "source": [
        "print(evpi)"
      ],
      "metadata": {
        "colab": {
          "base_uri": "https://localhost:8080/"
        },
        "id": "sVTRYrTT2e6g",
        "outputId": "5fd18af1-e9f8-4ef5-a30a-4b537c3559a2"
      },
      "execution_count": 37,
      "outputs": [
        {
          "output_type": "stream",
          "name": "stdout",
          "text": [
            "59.0\n"
          ]
        }
      ]
    }
  ]
}